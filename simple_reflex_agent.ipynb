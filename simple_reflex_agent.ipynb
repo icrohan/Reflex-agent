{
  "nbformat": 4,
  "nbformat_minor": 0,
  "metadata": {
    "colab": {
      "provenance": [],
      "authorship_tag": "ABX9TyNQa0wmAwi+7HoY72LCkJlu",
      "include_colab_link": true
    },
    "kernelspec": {
      "name": "python3",
      "display_name": "Python 3"
    },
    "language_info": {
      "name": "python"
    }
  },
  "cells": [
    {
      "cell_type": "markdown",
      "metadata": {
        "id": "view-in-github",
        "colab_type": "text"
      },
      "source": [
        "<a href=\"https://colab.research.google.com/github/icrohan/Reflex-agent/blob/main/simple_reflex_agent.ipynb\" target=\"_parent\"><img src=\"https://colab.research.google.com/assets/colab-badge.svg\" alt=\"Open In Colab\"/></a>"
      ]
    },
    {
      "cell_type": "code",
      "execution_count": null,
      "metadata": {
        "colab": {
          "base_uri": "https://localhost:8080/"
        },
        "id": "iXxhH42QuqcV",
        "outputId": "193bff13-d2cc-4a77-851b-998d205ee017"
      },
      "outputs": [
        {
          "output_type": "stream",
          "name": "stdout",
          "text": [
            "{'A': 0, 'B': 1}\n",
            "Vacuum randomly placed at Location B.\n",
            "Location B is Dirty.\n",
            "Location B has been Cleaned.\n",
            "Moving to Location A...\n",
            "Location A is Clean.\n",
            "Environment is Clean.\n",
            "{'A': 0, 'B': 0}\n",
            "Performance Measurement: 1\n"
          ]
        }
      ],
      "source": [
        "import random\n",
        "\n",
        "class Environment(object):\n",
        "    def __init__(self):\n",
        "        self.locationCondition = {'A': '0', 'B': '0'}\n",
        "        self.locationCondition['A'] = random.randint(0, 1)\n",
        "        self.locationCondition['B'] = random.randint(0, 1)\n",
        "\n",
        "class SimpleReflexVacuumAgent(Environment):\n",
        "    def __init__(self, Environment):\n",
        "        print (Environment.locationCondition)\n",
        "        Score = 0\n",
        "        vacuumLocation = random.randint(0, 1)\n",
        "        if vacuumLocation == 0:\n",
        "            print (\"Vacuum is randomly placed at Location A.\")\n",
        "            print (\"Location A is Dirty.\") if Environment.locationCondition['A'] == 1 else print(\"Location A is Clean.\")\n",
        "            if Environment.locationCondition['A'] == 1:\n",
        "                Environment.locationCondition['A'] = 0\n",
        "                Score += 1\n",
        "                print (\"Location A has been Cleaned.\")\n",
        "            print (\"Moving to Location B...\")\n",
        "            print (\"Location B is Dirty.\") if Environment.locationCondition['B'] == 1 else print(\"Location B is Clean.\")\n",
        "            if Environment.locationCondition['B'] == 1:\n",
        "                Environment.locationCondition['B'] = 0;\n",
        "                Score += 1\n",
        "                print (\"Location B has been Cleaned.\")\n",
        "            print(\"Environment is Clean.\")\n",
        "\n",
        "        elif vacuumLocation == 1:\n",
        "            print (\"Vacuum randomly placed at Location B.\")\n",
        "            print (\"Location B is Dirty.\") if Environment.locationCondition['B'] == 1 else print(\"Location B is Clean.\")\n",
        "            if Environment.locationCondition['B'] == 1:\n",
        "                Environment.locationCondition['B'] = 0\n",
        "                Score += 1\n",
        "                print (\"Location B has been Cleaned.\")\n",
        "            print (\"Moving to Location A...\")\n",
        "            print (\"Location A is Dirty.\") if Environment.locationCondition['A'] == 1 else print(\"Location A is Clean.\")\n",
        "            if Environment.locationCondition['A'] == 1:\n",
        "                Environment.locationCondition['A'] = 0;\n",
        "                Score += 1\n",
        "                print (\"Location A has been Cleaned.\")\n",
        "            print(\"Environment is Clean.\")\n",
        "\n",
        "        print (Environment.locationCondition)\n",
        "        print (\"Performance Measurement: \" + str(Score))\n",
        "\n",
        "theEnvironment = Environment()\n",
        "theVacuum = SimpleReflexVacuumAgent(theEnvironment)\n"
      ]
    }
  ]
}